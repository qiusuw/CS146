{
 "cells": [
  {
   "cell_type": "code",
   "execution_count": null,
   "metadata": {},
   "outputs": [],
   "source": []
  },
  {
   "cell_type": "markdown",
   "metadata": {},
   "source": [
    "### 1. Probability Distribution\n",
    "\n",
    "support: R\n",
    "pdf have one more modes?:\n",
    "skewed or symmetric:\n",
    "when will most mass be:\n",
    "parameters of the distribution:\n",
    "\n",
    "\n",
    "P = 1/0.5*exp(-1s)\n",
    "this is a skewed distribution\n",
    "x = 0 is the mode of the function\n",
    "the probability of x is between 0 and 1 \n",
    "\n"
   ]
  },
  {
   "cell_type": "code",
   "execution_count": 23,
   "metadata": {},
   "outputs": [
    {
     "name": "stdout",
     "output_type": "stream",
     "text": [
      "pdf is: 0.6065306597126334\n",
      "cdf is: 0.3934693402873666\n",
      "ppf is: 0.6931471805599453\n"
     ]
    }
   ],
   "source": [
    "import scipy.stats as sta\n",
    "from scipy.stats import norm\n",
    "\n",
    "print (\"pdf is:\", sta.expon.pdf(0.5)) \n",
    "print (\"cdf is:\", sta.expon.cdf(0.5)) \n",
    "print (\"ppf is:\", sta.expon.ppf(0.5))\n"
   ]
  },
  {
   "cell_type": "code",
   "execution_count": null,
   "metadata": {},
   "outputs": [],
   "source": []
  },
  {
   "cell_type": "code",
   "execution_count": null,
   "metadata": {},
   "outputs": [],
   "source": []
  }
 ],
 "metadata": {
  "kernelspec": {
   "display_name": "Python 3",
   "language": "python",
   "name": "python3"
  },
  "language_info": {
   "codemirror_mode": {
    "name": "ipython",
    "version": 3
   },
   "file_extension": ".py",
   "mimetype": "text/x-python",
   "name": "python",
   "nbconvert_exporter": "python",
   "pygments_lexer": "ipython3",
   "version": "3.6.4"
  }
 },
 "nbformat": 4,
 "nbformat_minor": 2
}
